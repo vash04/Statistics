{
 "cells": [
  {
   "cell_type": "markdown",
   "id": "bf15e867-802a-4187-8785-31ef60bbc38b",
   "metadata": {},
   "source": [
    "# t-test"
   ]
  },
  {
   "cell_type": "code",
   "execution_count": 32,
   "id": "51dfb5d7-8a46-44ab-bd69-1e78ce4fa5af",
   "metadata": {},
   "outputs": [],
   "source": [
    "import pandas as pd\n",
    "import numpy as np\n",
    "import matplotlib.pyplot as plt\n",
    "import warnings\n",
    "warnings.filterwarnings(\"ignore\")"
   ]
  },
  {
   "cell_type": "code",
   "execution_count": 40,
   "id": "c186384c-14d5-4adb-a926-af917c777c7a",
   "metadata": {},
   "outputs": [
    {
     "data": {
      "text/html": [
       "<div>\n",
       "<style scoped>\n",
       "    .dataframe tbody tr th:only-of-type {\n",
       "        vertical-align: middle;\n",
       "    }\n",
       "\n",
       "    .dataframe tbody tr th {\n",
       "        vertical-align: top;\n",
       "    }\n",
       "\n",
       "    .dataframe thead th {\n",
       "        text-align: right;\n",
       "    }\n",
       "</style>\n",
       "<table border=\"1\" class=\"dataframe\">\n",
       "  <thead>\n",
       "    <tr style=\"text-align: right;\">\n",
       "      <th></th>\n",
       "      <th>Passengerid</th>\n",
       "      <th>Age</th>\n",
       "      <th>Fare</th>\n",
       "      <th>Sex</th>\n",
       "      <th>sibsp</th>\n",
       "      <th>zero</th>\n",
       "      <th>zero.1</th>\n",
       "      <th>zero.2</th>\n",
       "      <th>zero.3</th>\n",
       "      <th>zero.4</th>\n",
       "      <th>...</th>\n",
       "      <th>zero.12</th>\n",
       "      <th>zero.13</th>\n",
       "      <th>zero.14</th>\n",
       "      <th>Pclass</th>\n",
       "      <th>zero.15</th>\n",
       "      <th>zero.16</th>\n",
       "      <th>Embarked</th>\n",
       "      <th>zero.17</th>\n",
       "      <th>zero.18</th>\n",
       "      <th>2urvived</th>\n",
       "    </tr>\n",
       "  </thead>\n",
       "  <tbody>\n",
       "    <tr>\n",
       "      <th>0</th>\n",
       "      <td>1</td>\n",
       "      <td>22.0</td>\n",
       "      <td>7.2500</td>\n",
       "      <td>0</td>\n",
       "      <td>1</td>\n",
       "      <td>0</td>\n",
       "      <td>0</td>\n",
       "      <td>0</td>\n",
       "      <td>0</td>\n",
       "      <td>0</td>\n",
       "      <td>...</td>\n",
       "      <td>0</td>\n",
       "      <td>0</td>\n",
       "      <td>0</td>\n",
       "      <td>3</td>\n",
       "      <td>0</td>\n",
       "      <td>0</td>\n",
       "      <td>2.0</td>\n",
       "      <td>0</td>\n",
       "      <td>0</td>\n",
       "      <td>0</td>\n",
       "    </tr>\n",
       "    <tr>\n",
       "      <th>1</th>\n",
       "      <td>2</td>\n",
       "      <td>38.0</td>\n",
       "      <td>71.2833</td>\n",
       "      <td>1</td>\n",
       "      <td>1</td>\n",
       "      <td>0</td>\n",
       "      <td>0</td>\n",
       "      <td>0</td>\n",
       "      <td>0</td>\n",
       "      <td>0</td>\n",
       "      <td>...</td>\n",
       "      <td>0</td>\n",
       "      <td>0</td>\n",
       "      <td>0</td>\n",
       "      <td>1</td>\n",
       "      <td>0</td>\n",
       "      <td>0</td>\n",
       "      <td>0.0</td>\n",
       "      <td>0</td>\n",
       "      <td>0</td>\n",
       "      <td>1</td>\n",
       "    </tr>\n",
       "    <tr>\n",
       "      <th>2</th>\n",
       "      <td>3</td>\n",
       "      <td>26.0</td>\n",
       "      <td>7.9250</td>\n",
       "      <td>1</td>\n",
       "      <td>0</td>\n",
       "      <td>0</td>\n",
       "      <td>0</td>\n",
       "      <td>0</td>\n",
       "      <td>0</td>\n",
       "      <td>0</td>\n",
       "      <td>...</td>\n",
       "      <td>0</td>\n",
       "      <td>0</td>\n",
       "      <td>0</td>\n",
       "      <td>3</td>\n",
       "      <td>0</td>\n",
       "      <td>0</td>\n",
       "      <td>2.0</td>\n",
       "      <td>0</td>\n",
       "      <td>0</td>\n",
       "      <td>1</td>\n",
       "    </tr>\n",
       "    <tr>\n",
       "      <th>3</th>\n",
       "      <td>4</td>\n",
       "      <td>35.0</td>\n",
       "      <td>53.1000</td>\n",
       "      <td>1</td>\n",
       "      <td>1</td>\n",
       "      <td>0</td>\n",
       "      <td>0</td>\n",
       "      <td>0</td>\n",
       "      <td>0</td>\n",
       "      <td>0</td>\n",
       "      <td>...</td>\n",
       "      <td>0</td>\n",
       "      <td>0</td>\n",
       "      <td>0</td>\n",
       "      <td>1</td>\n",
       "      <td>0</td>\n",
       "      <td>0</td>\n",
       "      <td>2.0</td>\n",
       "      <td>0</td>\n",
       "      <td>0</td>\n",
       "      <td>1</td>\n",
       "    </tr>\n",
       "    <tr>\n",
       "      <th>4</th>\n",
       "      <td>5</td>\n",
       "      <td>35.0</td>\n",
       "      <td>8.0500</td>\n",
       "      <td>0</td>\n",
       "      <td>0</td>\n",
       "      <td>0</td>\n",
       "      <td>0</td>\n",
       "      <td>0</td>\n",
       "      <td>0</td>\n",
       "      <td>0</td>\n",
       "      <td>...</td>\n",
       "      <td>0</td>\n",
       "      <td>0</td>\n",
       "      <td>0</td>\n",
       "      <td>3</td>\n",
       "      <td>0</td>\n",
       "      <td>0</td>\n",
       "      <td>2.0</td>\n",
       "      <td>0</td>\n",
       "      <td>0</td>\n",
       "      <td>0</td>\n",
       "    </tr>\n",
       "    <tr>\n",
       "      <th>...</th>\n",
       "      <td>...</td>\n",
       "      <td>...</td>\n",
       "      <td>...</td>\n",
       "      <td>...</td>\n",
       "      <td>...</td>\n",
       "      <td>...</td>\n",
       "      <td>...</td>\n",
       "      <td>...</td>\n",
       "      <td>...</td>\n",
       "      <td>...</td>\n",
       "      <td>...</td>\n",
       "      <td>...</td>\n",
       "      <td>...</td>\n",
       "      <td>...</td>\n",
       "      <td>...</td>\n",
       "      <td>...</td>\n",
       "      <td>...</td>\n",
       "      <td>...</td>\n",
       "      <td>...</td>\n",
       "      <td>...</td>\n",
       "      <td>...</td>\n",
       "    </tr>\n",
       "    <tr>\n",
       "      <th>1304</th>\n",
       "      <td>1305</td>\n",
       "      <td>28.0</td>\n",
       "      <td>8.0500</td>\n",
       "      <td>0</td>\n",
       "      <td>0</td>\n",
       "      <td>0</td>\n",
       "      <td>0</td>\n",
       "      <td>0</td>\n",
       "      <td>0</td>\n",
       "      <td>0</td>\n",
       "      <td>...</td>\n",
       "      <td>0</td>\n",
       "      <td>0</td>\n",
       "      <td>0</td>\n",
       "      <td>3</td>\n",
       "      <td>0</td>\n",
       "      <td>0</td>\n",
       "      <td>2.0</td>\n",
       "      <td>0</td>\n",
       "      <td>0</td>\n",
       "      <td>0</td>\n",
       "    </tr>\n",
       "    <tr>\n",
       "      <th>1305</th>\n",
       "      <td>1306</td>\n",
       "      <td>39.0</td>\n",
       "      <td>108.9000</td>\n",
       "      <td>1</td>\n",
       "      <td>0</td>\n",
       "      <td>0</td>\n",
       "      <td>0</td>\n",
       "      <td>0</td>\n",
       "      <td>0</td>\n",
       "      <td>0</td>\n",
       "      <td>...</td>\n",
       "      <td>0</td>\n",
       "      <td>0</td>\n",
       "      <td>0</td>\n",
       "      <td>1</td>\n",
       "      <td>0</td>\n",
       "      <td>0</td>\n",
       "      <td>0.0</td>\n",
       "      <td>0</td>\n",
       "      <td>0</td>\n",
       "      <td>0</td>\n",
       "    </tr>\n",
       "    <tr>\n",
       "      <th>1306</th>\n",
       "      <td>1307</td>\n",
       "      <td>38.5</td>\n",
       "      <td>7.2500</td>\n",
       "      <td>0</td>\n",
       "      <td>0</td>\n",
       "      <td>0</td>\n",
       "      <td>0</td>\n",
       "      <td>0</td>\n",
       "      <td>0</td>\n",
       "      <td>0</td>\n",
       "      <td>...</td>\n",
       "      <td>0</td>\n",
       "      <td>0</td>\n",
       "      <td>0</td>\n",
       "      <td>3</td>\n",
       "      <td>0</td>\n",
       "      <td>0</td>\n",
       "      <td>2.0</td>\n",
       "      <td>0</td>\n",
       "      <td>0</td>\n",
       "      <td>0</td>\n",
       "    </tr>\n",
       "    <tr>\n",
       "      <th>1307</th>\n",
       "      <td>1308</td>\n",
       "      <td>28.0</td>\n",
       "      <td>8.0500</td>\n",
       "      <td>0</td>\n",
       "      <td>0</td>\n",
       "      <td>0</td>\n",
       "      <td>0</td>\n",
       "      <td>0</td>\n",
       "      <td>0</td>\n",
       "      <td>0</td>\n",
       "      <td>...</td>\n",
       "      <td>0</td>\n",
       "      <td>0</td>\n",
       "      <td>0</td>\n",
       "      <td>3</td>\n",
       "      <td>0</td>\n",
       "      <td>0</td>\n",
       "      <td>2.0</td>\n",
       "      <td>0</td>\n",
       "      <td>0</td>\n",
       "      <td>0</td>\n",
       "    </tr>\n",
       "    <tr>\n",
       "      <th>1308</th>\n",
       "      <td>1309</td>\n",
       "      <td>28.0</td>\n",
       "      <td>22.3583</td>\n",
       "      <td>0</td>\n",
       "      <td>1</td>\n",
       "      <td>0</td>\n",
       "      <td>0</td>\n",
       "      <td>0</td>\n",
       "      <td>0</td>\n",
       "      <td>0</td>\n",
       "      <td>...</td>\n",
       "      <td>0</td>\n",
       "      <td>0</td>\n",
       "      <td>0</td>\n",
       "      <td>3</td>\n",
       "      <td>0</td>\n",
       "      <td>0</td>\n",
       "      <td>0.0</td>\n",
       "      <td>0</td>\n",
       "      <td>0</td>\n",
       "      <td>0</td>\n",
       "    </tr>\n",
       "  </tbody>\n",
       "</table>\n",
       "<p>1309 rows × 28 columns</p>\n",
       "</div>"
      ],
      "text/plain": [
       "      Passengerid   Age      Fare  Sex  sibsp  zero  zero.1  zero.2  zero.3  \\\n",
       "0               1  22.0    7.2500    0      1     0       0       0       0   \n",
       "1               2  38.0   71.2833    1      1     0       0       0       0   \n",
       "2               3  26.0    7.9250    1      0     0       0       0       0   \n",
       "3               4  35.0   53.1000    1      1     0       0       0       0   \n",
       "4               5  35.0    8.0500    0      0     0       0       0       0   \n",
       "...           ...   ...       ...  ...    ...   ...     ...     ...     ...   \n",
       "1304         1305  28.0    8.0500    0      0     0       0       0       0   \n",
       "1305         1306  39.0  108.9000    1      0     0       0       0       0   \n",
       "1306         1307  38.5    7.2500    0      0     0       0       0       0   \n",
       "1307         1308  28.0    8.0500    0      0     0       0       0       0   \n",
       "1308         1309  28.0   22.3583    0      1     0       0       0       0   \n",
       "\n",
       "      zero.4  ...  zero.12  zero.13  zero.14  Pclass  zero.15  zero.16  \\\n",
       "0          0  ...        0        0        0       3        0        0   \n",
       "1          0  ...        0        0        0       1        0        0   \n",
       "2          0  ...        0        0        0       3        0        0   \n",
       "3          0  ...        0        0        0       1        0        0   \n",
       "4          0  ...        0        0        0       3        0        0   \n",
       "...      ...  ...      ...      ...      ...     ...      ...      ...   \n",
       "1304       0  ...        0        0        0       3        0        0   \n",
       "1305       0  ...        0        0        0       1        0        0   \n",
       "1306       0  ...        0        0        0       3        0        0   \n",
       "1307       0  ...        0        0        0       3        0        0   \n",
       "1308       0  ...        0        0        0       3        0        0   \n",
       "\n",
       "      Embarked  zero.17  zero.18  2urvived  \n",
       "0          2.0        0        0         0  \n",
       "1          0.0        0        0         1  \n",
       "2          2.0        0        0         1  \n",
       "3          2.0        0        0         1  \n",
       "4          2.0        0        0         0  \n",
       "...        ...      ...      ...       ...  \n",
       "1304       2.0        0        0         0  \n",
       "1305       0.0        0        0         0  \n",
       "1306       2.0        0        0         0  \n",
       "1307       2.0        0        0         0  \n",
       "1308       0.0        0        0         0  \n",
       "\n",
       "[1309 rows x 28 columns]"
      ]
     },
     "execution_count": 40,
     "metadata": {},
     "output_type": "execute_result"
    }
   ],
   "source": [
    "df=pd.read_csv(r\"C:\\Users\\joshi\\Downloads\\train_and_test2.csv\")\n",
    "df"
   ]
  },
  {
   "cell_type": "code",
   "execution_count": 13,
   "id": "4e3a71fd-484f-418d-9f0f-9514dbb3f236",
   "metadata": {},
   "outputs": [
    {
     "data": {
      "text/plain": [
       "0       22.0\n",
       "1       38.0\n",
       "2       26.0\n",
       "3       35.0\n",
       "4       35.0\n",
       "        ... \n",
       "1304    28.0\n",
       "1305    39.0\n",
       "1306    38.5\n",
       "1307    28.0\n",
       "1308    28.0\n",
       "Name: Age, Length: 1309, dtype: float64"
      ]
     },
     "execution_count": 13,
     "metadata": {},
     "output_type": "execute_result"
    }
   ],
   "source": [
    "pop=df[\"Age\"].dropna()\n",
    "pop"
   ]
  },
  {
   "cell_type": "code",
   "execution_count": 14,
   "id": "9cc1300f-ab3f-4925-93db-215417b005bd",
   "metadata": {},
   "outputs": [
    {
     "data": {
      "text/plain": [
       "array([21. , 24. , 31. , 57. , 30.5, 15. , 28. , 21. , 40. , 28. , 45. ,\n",
       "       28. , 24. , 30. ,  6. , 18. , 28. , 29. , 28. , 32. , 16. , 27. ,\n",
       "       54. , 21. , 58. ])"
      ]
     },
     "execution_count": 14,
     "metadata": {},
     "output_type": "execute_result"
    }
   ],
   "source": [
    "sample_age=pop.sample(25).values\n",
    "sample_age"
   ]
  },
  {
   "cell_type": "code",
   "execution_count": 15,
   "id": "acff7c4c-70bb-41f3-a013-ab94e775fb2f",
   "metadata": {},
   "outputs": [],
   "source": [
    "# H0 = mean age is 35\n",
    "# Ha = mean age is less than 35"
   ]
  },
  {
   "cell_type": "code",
   "execution_count": 16,
   "id": "8705f290-52fe-49fe-9147-130c6654bd80",
   "metadata": {},
   "outputs": [],
   "source": [
    "from scipy.stats import shapiro"
   ]
  },
  {
   "cell_type": "code",
   "execution_count": 17,
   "id": "a3e2d71b-5aa7-4f9d-88fb-e960b4019c0d",
   "metadata": {},
   "outputs": [
    {
     "data": {
      "text/plain": [
       "ShapiroResult(statistic=np.float64(0.9000861264816397), pvalue=np.float64(0.018425655015236134))"
      ]
     },
     "execution_count": 17,
     "metadata": {},
     "output_type": "execute_result"
    }
   ],
   "source": [
    "shapiro(sample_age)"
   ]
  },
  {
   "cell_type": "code",
   "execution_count": 19,
   "id": "f95eb9f9-ef35-4eeb-8d9a-5d3ff13abb8b",
   "metadata": {},
   "outputs": [],
   "source": [
    "pop_mean=35"
   ]
  },
  {
   "cell_type": "code",
   "execution_count": 21,
   "id": "1bbf0754-89e0-497b-91cf-2286f8221eee",
   "metadata": {},
   "outputs": [],
   "source": [
    "from scipy.stats import stats"
   ]
  },
  {
   "cell_type": "code",
   "execution_count": 35,
   "id": "8f9b2f73-3107-426c-b9a9-f29a6eedc3f4",
   "metadata": {},
   "outputs": [
    {
     "name": "stdout",
     "output_type": "stream",
     "text": [
      "t_statistic : -2.125669998915383\n",
      "p-value : 0.02200910964319679\n"
     ]
    }
   ],
   "source": [
    "t_statistic, p_value=stats.ttest_1samp(sample_age, pop_mean)\n",
    "\n",
    "print(f\"t_statistic : {t_statistic}\")\n",
    "print(f\"p-value : {p_value/2}\")"
   ]
  },
  {
   "cell_type": "markdown",
   "id": "34847a5e-7956-406e-8f24-61727b8ff743",
   "metadata": {},
   "source": [
    " can't reject the null hypothesis"
   ]
  },
  {
   "cell_type": "markdown",
   "id": "54c8cc50-a7e6-4241-bc7d-de0755c9973d",
   "metadata": {},
   "source": [
    "# t-test 2 sample (independent)"
   ]
  },
  {
   "cell_type": "code",
   "execution_count": 56,
   "id": "4093bcd9-fa5b-4b8d-9e2e-693765f6596e",
   "metadata": {},
   "outputs": [],
   "source": [
    "#h0 = age of male and female is similar\n",
    "#ha = age of male and famale is significantly different"
   ]
  },
  {
   "cell_type": "code",
   "execution_count": 45,
   "id": "d0821731-a0b8-4d07-8aa2-392b0bb002b4",
   "metadata": {},
   "outputs": [],
   "source": [
    "pop_male=df[df[\"Sex\"]==1][\"Age\"].dropna()\n",
    "pop_female=df[df[\"Sex\"]==0][\"Age\"].dropna()"
   ]
  },
  {
   "cell_type": "code",
   "execution_count": 49,
   "id": "48346bf7-14e6-4ead-9469-85a5ee64d2c7",
   "metadata": {},
   "outputs": [],
   "source": [
    "sample_male=pop_male.sample(25)\n",
    "sample_female=pop_female.sample(25)\n",
    "\n",
    "alpha=0.05"
   ]
  },
  {
   "cell_type": "code",
   "execution_count": 51,
   "id": "7d00a4d0-88fd-4347-8da5-4697fcd307cc",
   "metadata": {},
   "outputs": [
    {
     "name": "stdout",
     "output_type": "stream",
     "text": [
      "ShapiroResult(statistic=np.float64(0.9355174584652779), pvalue=np.float64(0.11659043806269315))\n",
      "ShapiroResult(statistic=np.float64(0.9355168525854828), pvalue=np.float64(0.11658667330527822))\n"
     ]
    }
   ],
   "source": [
    "print(shapiro(sample_male))\n",
    "print(shapiro(sample_female))"
   ]
  },
  {
   "cell_type": "code",
   "execution_count": 52,
   "id": "26e8daf9-12f2-41f5-8f17-5900512bc0ef",
   "metadata": {},
   "outputs": [],
   "source": [
    "from scipy.stats import levene"
   ]
  },
  {
   "cell_type": "code",
   "execution_count": 54,
   "id": "b8ed4ec3-0a5d-4a80-9f5d-193cb820a8ed",
   "metadata": {},
   "outputs": [
    {
     "name": "stdout",
     "output_type": "stream",
     "text": [
      "LeveneResult(statistic=np.float64(0.39074990207314814), pvalue=np.float64(0.5348660830406329))\n"
     ]
    }
   ],
   "source": [
    "print(levene(sample_male, sample_female))"
   ]
  },
  {
   "cell_type": "code",
   "execution_count": 55,
   "id": "d08cc915-4e46-4401-9226-2edc19de371e",
   "metadata": {},
   "outputs": [
    {
     "name": "stdout",
     "output_type": "stream",
     "text": [
      "t_statistic : -0.6636602246874178\n",
      "p-value : 0.2550414876508874\n"
     ]
    }
   ],
   "source": [
    "t_statistic, p_value=stats.ttest_ind(sample_male, sample_female)\n",
    "\n",
    "print(f\"t_statistic : {t_statistic}\")\n",
    "print(f\"p-value : {p_value/2}\")"
   ]
  },
  {
   "cell_type": "markdown",
   "id": "ee0bcdb9-7ea6-4a71-82c4-c126f322c0fb",
   "metadata": {},
   "source": [
    "hence we cant reject the null hypothesis for now"
   ]
  },
  {
   "cell_type": "markdown",
   "id": "63fea3bc-3fd0-4c72-9283-027e5b36d1ba",
   "metadata": {},
   "source": [
    "# t-test 2 sample (dependent)"
   ]
  },
  {
   "cell_type": "code",
   "execution_count": 76,
   "id": "dd8cb3cb-2144-4fe6-be2b-25c5b12a375a",
   "metadata": {},
   "outputs": [],
   "source": [
    "# Ho mean of before=after\n",
    "# Ha mean of before>>after"
   ]
  },
  {
   "cell_type": "code",
   "execution_count": 59,
   "id": "4345e1fe-a6a1-4590-9bb2-5498fa29a0b5",
   "metadata": {},
   "outputs": [],
   "source": [
    "before=np.array([80,82,95,76,84,98,87,85,84,73,77,89,90,89,71])\n",
    "after=np.array([89,78,79,89,90,89,87,84,73,82,81,95,98,84,76])\n",
    "\n",
    "differences=before-after"
   ]
  },
  {
   "cell_type": "code",
   "execution_count": 65,
   "id": "39fbde4e-63a5-4684-8e95-324e5fbdf19c",
   "metadata": {},
   "outputs": [],
   "source": [
    "mean_diff=np.mean(differences)\n",
    "std_diff=np.std(differences)\n",
    "n=len(differences)"
   ]
  },
  {
   "cell_type": "code",
   "execution_count": 68,
   "id": "16fc76f0-a228-4ce3-8fb7-c7751e40a7bb",
   "metadata": {},
   "outputs": [],
   "source": [
    "t_statistic=mean_diff/(std_diff/np.sqrt(n))\n",
    "df=n-1"
   ]
  },
  {
   "cell_type": "code",
   "execution_count": 69,
   "id": "eea2806e-7137-44ff-94ef-c23f7a1d242e",
   "metadata": {},
   "outputs": [
    {
     "data": {
      "text/plain": [
       "np.float64(-0.44384470688225186)"
      ]
     },
     "execution_count": 69,
     "metadata": {},
     "output_type": "execute_result"
    }
   ],
   "source": [
    "t_statistic"
   ]
  },
  {
   "cell_type": "code",
   "execution_count": 70,
   "id": "ddd8a982-9a96-4c80-b107-efe89910394a",
   "metadata": {},
   "outputs": [],
   "source": [
    "alpha=0.05"
   ]
  },
  {
   "cell_type": "code",
   "execution_count": 72,
   "id": "b0ac1f2e-b1da-4cae-aa78-5f71e6f1a92d",
   "metadata": {},
   "outputs": [],
   "source": [
    "from scipy.stats import t"
   ]
  },
  {
   "cell_type": "code",
   "execution_count": 74,
   "id": "0b3cef38-a7d0-48d5-87f2-e2bb1afdfa8a",
   "metadata": {},
   "outputs": [
    {
     "data": {
      "text/plain": [
       "np.float64(0.33196886873915493)"
      ]
     },
     "execution_count": 74,
     "metadata": {},
     "output_type": "execute_result"
    }
   ],
   "source": [
    "t.cdf(t_statistic, df)"
   ]
  },
  {
   "cell_type": "code",
   "execution_count": 75,
   "id": "8414d9c9-670f-4751-9065-00487f472b4d",
   "metadata": {},
   "outputs": [
    {
     "data": {
      "text/plain": [
       "np.float64(0.5100829753017748)"
      ]
     },
     "execution_count": 75,
     "metadata": {},
     "output_type": "execute_result"
    }
   ],
   "source": [
    "p_value"
   ]
  },
  {
   "cell_type": "markdown",
   "id": "e55becbc-3444-47d1-9f59-68d2847b6a00",
   "metadata": {},
   "source": [
    "can't reject the null hypothesis"
   ]
  },
  {
   "cell_type": "code",
   "execution_count": null,
   "id": "2ca45ad6-51df-4b50-a814-55455e15a8ed",
   "metadata": {},
   "outputs": [],
   "source": []
  }
 ],
 "metadata": {
  "kernelspec": {
   "display_name": "Python 3 (ipykernel)",
   "language": "python",
   "name": "python3"
  },
  "language_info": {
   "codemirror_mode": {
    "name": "ipython",
    "version": 3
   },
   "file_extension": ".py",
   "mimetype": "text/x-python",
   "name": "python",
   "nbconvert_exporter": "python",
   "pygments_lexer": "ipython3",
   "version": "3.11.13"
  }
 },
 "nbformat": 4,
 "nbformat_minor": 5
}
